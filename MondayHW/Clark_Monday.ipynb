{
  "nbformat": 4,
  "nbformat_minor": 0,
  "metadata": {
    "colab": {
      "provenance": []
    },
    "kernelspec": {
      "name": "python3",
      "display_name": "Python 3"
    },
    "language_info": {
      "name": "python"
    }
  },
  "cells": [
    {
      "cell_type": "code",
      "execution_count": null,
      "metadata": {
        "id": "QCdUZxXDpot7"
      },
      "outputs": [],
      "source": [
        "!pip install yfinance"
      ]
    },
    {
      "cell_type": "code",
      "source": [
        "import yfinance as yf\n",
        "import pandas as pd\n",
        "import matplotlib.pyplot as plt\n",
        "import sklearn as skl\n",
        "import numpy as np"
      ],
      "metadata": {
        "id": "hf4JBe61p98l"
      },
      "execution_count": 2,
      "outputs": []
    },
    {
      "cell_type": "markdown",
      "source": [
        "# Overview of my solution\n",
        "\n",
        "I analyze Apple (AAPL) stock over its entire lifetime.\n",
        "\n",
        "### Model Used: \n",
        "- Kth Nearest Neighbors\n",
        "\n",
        "### Inputs:\n",
        "- Moving Average (with various windows)\n",
        "- Exponential Moving Average (with various windows)\n",
        "\n",
        "### Outputs:\n",
        "- 1 if 'Close Adj' moves up compared to the previous day\n",
        "- 0 if 'Close Adj' stays the same compared to the previous day\n",
        "- -1 if 'Close Adj' moves down compared to the previous day\n",
        "\n",
        "### Results:\n",
        "Predicted correctly 56.84% of the time."
      ],
      "metadata": {
        "id": "GZPnkKM4WCKa"
      }
    },
    {
      "cell_type": "markdown",
      "source": [
        "# Problem 1\n",
        "Download Apple (AAPL) historical stock data from Yahoo Finance. "
      ],
      "metadata": {
        "id": "FCzJqfO2rtVP"
      }
    },
    {
      "cell_type": "code",
      "source": [
        "data = yf.download('AAPL')\n",
        "data"
      ],
      "metadata": {
        "colab": {
          "base_uri": "https://localhost:8080/",
          "height": 473
        },
        "id": "69vIOcTdp_ct",
        "outputId": "2dc44d9c-2e5a-4d2f-d13a-b361f0917def"
      },
      "execution_count": 3,
      "outputs": [
        {
          "output_type": "stream",
          "name": "stdout",
          "text": [
            "\r[*********************100%***********************]  1 of 1 completed\n"
          ]
        },
        {
          "output_type": "execute_result",
          "data": {
            "text/plain": [
              "                  Open        High         Low       Close   Adj Close  \\\n",
              "Date                                                                     \n",
              "1980-12-12    0.128348    0.128906    0.128348    0.128348    0.099874   \n",
              "1980-12-15    0.122210    0.122210    0.121652    0.121652    0.094663   \n",
              "1980-12-16    0.113281    0.113281    0.112723    0.112723    0.087715   \n",
              "1980-12-17    0.115513    0.116071    0.115513    0.115513    0.089886   \n",
              "1980-12-18    0.118862    0.119420    0.118862    0.118862    0.092492   \n",
              "...                ...         ...         ...         ...         ...   \n",
              "2022-12-14  145.350006  146.660004  141.160004  143.210007  143.210007   \n",
              "2022-12-15  141.110001  141.800003  136.029999  136.500000  136.500000   \n",
              "2022-12-16  136.690002  137.649994  133.729996  134.509995  134.509995   \n",
              "2022-12-19  135.110001  135.199997  131.320007  132.369995  132.369995   \n",
              "2022-12-20  131.389999  133.250000  129.889999  132.300003  132.300003   \n",
              "\n",
              "               Volume  \n",
              "Date                   \n",
              "1980-12-12  469033600  \n",
              "1980-12-15  175884800  \n",
              "1980-12-16  105728000  \n",
              "1980-12-17   86441600  \n",
              "1980-12-18   73449600  \n",
              "...               ...  \n",
              "2022-12-14   82291200  \n",
              "2022-12-15   98931900  \n",
              "2022-12-16  160080100  \n",
              "2022-12-19   79592600  \n",
              "2022-12-20   77256200  \n",
              "\n",
              "[10596 rows x 6 columns]"
            ],
            "text/html": [
              "\n",
              "  <div id=\"df-3951646b-51c8-4b2d-a01d-68c2982b0fdb\">\n",
              "    <div class=\"colab-df-container\">\n",
              "      <div>\n",
              "<style scoped>\n",
              "    .dataframe tbody tr th:only-of-type {\n",
              "        vertical-align: middle;\n",
              "    }\n",
              "\n",
              "    .dataframe tbody tr th {\n",
              "        vertical-align: top;\n",
              "    }\n",
              "\n",
              "    .dataframe thead th {\n",
              "        text-align: right;\n",
              "    }\n",
              "</style>\n",
              "<table border=\"1\" class=\"dataframe\">\n",
              "  <thead>\n",
              "    <tr style=\"text-align: right;\">\n",
              "      <th></th>\n",
              "      <th>Open</th>\n",
              "      <th>High</th>\n",
              "      <th>Low</th>\n",
              "      <th>Close</th>\n",
              "      <th>Adj Close</th>\n",
              "      <th>Volume</th>\n",
              "    </tr>\n",
              "    <tr>\n",
              "      <th>Date</th>\n",
              "      <th></th>\n",
              "      <th></th>\n",
              "      <th></th>\n",
              "      <th></th>\n",
              "      <th></th>\n",
              "      <th></th>\n",
              "    </tr>\n",
              "  </thead>\n",
              "  <tbody>\n",
              "    <tr>\n",
              "      <th>1980-12-12</th>\n",
              "      <td>0.128348</td>\n",
              "      <td>0.128906</td>\n",
              "      <td>0.128348</td>\n",
              "      <td>0.128348</td>\n",
              "      <td>0.099874</td>\n",
              "      <td>469033600</td>\n",
              "    </tr>\n",
              "    <tr>\n",
              "      <th>1980-12-15</th>\n",
              "      <td>0.122210</td>\n",
              "      <td>0.122210</td>\n",
              "      <td>0.121652</td>\n",
              "      <td>0.121652</td>\n",
              "      <td>0.094663</td>\n",
              "      <td>175884800</td>\n",
              "    </tr>\n",
              "    <tr>\n",
              "      <th>1980-12-16</th>\n",
              "      <td>0.113281</td>\n",
              "      <td>0.113281</td>\n",
              "      <td>0.112723</td>\n",
              "      <td>0.112723</td>\n",
              "      <td>0.087715</td>\n",
              "      <td>105728000</td>\n",
              "    </tr>\n",
              "    <tr>\n",
              "      <th>1980-12-17</th>\n",
              "      <td>0.115513</td>\n",
              "      <td>0.116071</td>\n",
              "      <td>0.115513</td>\n",
              "      <td>0.115513</td>\n",
              "      <td>0.089886</td>\n",
              "      <td>86441600</td>\n",
              "    </tr>\n",
              "    <tr>\n",
              "      <th>1980-12-18</th>\n",
              "      <td>0.118862</td>\n",
              "      <td>0.119420</td>\n",
              "      <td>0.118862</td>\n",
              "      <td>0.118862</td>\n",
              "      <td>0.092492</td>\n",
              "      <td>73449600</td>\n",
              "    </tr>\n",
              "    <tr>\n",
              "      <th>...</th>\n",
              "      <td>...</td>\n",
              "      <td>...</td>\n",
              "      <td>...</td>\n",
              "      <td>...</td>\n",
              "      <td>...</td>\n",
              "      <td>...</td>\n",
              "    </tr>\n",
              "    <tr>\n",
              "      <th>2022-12-14</th>\n",
              "      <td>145.350006</td>\n",
              "      <td>146.660004</td>\n",
              "      <td>141.160004</td>\n",
              "      <td>143.210007</td>\n",
              "      <td>143.210007</td>\n",
              "      <td>82291200</td>\n",
              "    </tr>\n",
              "    <tr>\n",
              "      <th>2022-12-15</th>\n",
              "      <td>141.110001</td>\n",
              "      <td>141.800003</td>\n",
              "      <td>136.029999</td>\n",
              "      <td>136.500000</td>\n",
              "      <td>136.500000</td>\n",
              "      <td>98931900</td>\n",
              "    </tr>\n",
              "    <tr>\n",
              "      <th>2022-12-16</th>\n",
              "      <td>136.690002</td>\n",
              "      <td>137.649994</td>\n",
              "      <td>133.729996</td>\n",
              "      <td>134.509995</td>\n",
              "      <td>134.509995</td>\n",
              "      <td>160080100</td>\n",
              "    </tr>\n",
              "    <tr>\n",
              "      <th>2022-12-19</th>\n",
              "      <td>135.110001</td>\n",
              "      <td>135.199997</td>\n",
              "      <td>131.320007</td>\n",
              "      <td>132.369995</td>\n",
              "      <td>132.369995</td>\n",
              "      <td>79592600</td>\n",
              "    </tr>\n",
              "    <tr>\n",
              "      <th>2022-12-20</th>\n",
              "      <td>131.389999</td>\n",
              "      <td>133.250000</td>\n",
              "      <td>129.889999</td>\n",
              "      <td>132.300003</td>\n",
              "      <td>132.300003</td>\n",
              "      <td>77256200</td>\n",
              "    </tr>\n",
              "  </tbody>\n",
              "</table>\n",
              "<p>10596 rows × 6 columns</p>\n",
              "</div>\n",
              "      <button class=\"colab-df-convert\" onclick=\"convertToInteractive('df-3951646b-51c8-4b2d-a01d-68c2982b0fdb')\"\n",
              "              title=\"Convert this dataframe to an interactive table.\"\n",
              "              style=\"display:none;\">\n",
              "        \n",
              "  <svg xmlns=\"http://www.w3.org/2000/svg\" height=\"24px\"viewBox=\"0 0 24 24\"\n",
              "       width=\"24px\">\n",
              "    <path d=\"M0 0h24v24H0V0z\" fill=\"none\"/>\n",
              "    <path d=\"M18.56 5.44l.94 2.06.94-2.06 2.06-.94-2.06-.94-.94-2.06-.94 2.06-2.06.94zm-11 1L8.5 8.5l.94-2.06 2.06-.94-2.06-.94L8.5 2.5l-.94 2.06-2.06.94zm10 10l.94 2.06.94-2.06 2.06-.94-2.06-.94-.94-2.06-.94 2.06-2.06.94z\"/><path d=\"M17.41 7.96l-1.37-1.37c-.4-.4-.92-.59-1.43-.59-.52 0-1.04.2-1.43.59L10.3 9.45l-7.72 7.72c-.78.78-.78 2.05 0 2.83L4 21.41c.39.39.9.59 1.41.59.51 0 1.02-.2 1.41-.59l7.78-7.78 2.81-2.81c.8-.78.8-2.07 0-2.86zM5.41 20L4 18.59l7.72-7.72 1.47 1.35L5.41 20z\"/>\n",
              "  </svg>\n",
              "      </button>\n",
              "      \n",
              "  <style>\n",
              "    .colab-df-container {\n",
              "      display:flex;\n",
              "      flex-wrap:wrap;\n",
              "      gap: 12px;\n",
              "    }\n",
              "\n",
              "    .colab-df-convert {\n",
              "      background-color: #E8F0FE;\n",
              "      border: none;\n",
              "      border-radius: 50%;\n",
              "      cursor: pointer;\n",
              "      display: none;\n",
              "      fill: #1967D2;\n",
              "      height: 32px;\n",
              "      padding: 0 0 0 0;\n",
              "      width: 32px;\n",
              "    }\n",
              "\n",
              "    .colab-df-convert:hover {\n",
              "      background-color: #E2EBFA;\n",
              "      box-shadow: 0px 1px 2px rgba(60, 64, 67, 0.3), 0px 1px 3px 1px rgba(60, 64, 67, 0.15);\n",
              "      fill: #174EA6;\n",
              "    }\n",
              "\n",
              "    [theme=dark] .colab-df-convert {\n",
              "      background-color: #3B4455;\n",
              "      fill: #D2E3FC;\n",
              "    }\n",
              "\n",
              "    [theme=dark] .colab-df-convert:hover {\n",
              "      background-color: #434B5C;\n",
              "      box-shadow: 0px 1px 3px 1px rgba(0, 0, 0, 0.15);\n",
              "      filter: drop-shadow(0px 1px 2px rgba(0, 0, 0, 0.3));\n",
              "      fill: #FFFFFF;\n",
              "    }\n",
              "  </style>\n",
              "\n",
              "      <script>\n",
              "        const buttonEl =\n",
              "          document.querySelector('#df-3951646b-51c8-4b2d-a01d-68c2982b0fdb button.colab-df-convert');\n",
              "        buttonEl.style.display =\n",
              "          google.colab.kernel.accessAllowed ? 'block' : 'none';\n",
              "\n",
              "        async function convertToInteractive(key) {\n",
              "          const element = document.querySelector('#df-3951646b-51c8-4b2d-a01d-68c2982b0fdb');\n",
              "          const dataTable =\n",
              "            await google.colab.kernel.invokeFunction('convertToInteractive',\n",
              "                                                     [key], {});\n",
              "          if (!dataTable) return;\n",
              "\n",
              "          const docLinkHtml = 'Like what you see? Visit the ' +\n",
              "            '<a target=\"_blank\" href=https://colab.research.google.com/notebooks/data_table.ipynb>data table notebook</a>'\n",
              "            + ' to learn more about interactive tables.';\n",
              "          element.innerHTML = '';\n",
              "          dataTable['output_type'] = 'display_data';\n",
              "          await google.colab.output.renderOutput(dataTable, element);\n",
              "          const docLink = document.createElement('div');\n",
              "          docLink.innerHTML = docLinkHtml;\n",
              "          element.appendChild(docLink);\n",
              "        }\n",
              "      </script>\n",
              "    </div>\n",
              "  </div>\n",
              "  "
            ]
          },
          "metadata": {},
          "execution_count": 3
        }
      ]
    },
    {
      "cell_type": "markdown",
      "source": [
        "# Problem 2\n",
        "Plot one of the field w.r.t. time"
      ],
      "metadata": {
        "id": "3eB25_WssYum"
      }
    },
    {
      "cell_type": "code",
      "source": [
        "data.keys()"
      ],
      "metadata": {
        "colab": {
          "base_uri": "https://localhost:8080/"
        },
        "id": "7qgKxy-Xs_cn",
        "outputId": "c2b4fcd4-22d1-4cc2-f812-ad20d855fde9"
      },
      "execution_count": 4,
      "outputs": [
        {
          "output_type": "execute_result",
          "data": {
            "text/plain": [
              "Index(['Open', 'High', 'Low', 'Close', 'Adj Close', 'Volume'], dtype='object')"
            ]
          },
          "metadata": {},
          "execution_count": 4
        }
      ]
    },
    {
      "cell_type": "code",
      "source": [
        "close = data['Adj Close']\n",
        "close.plot()\n",
        "plt.ylabel('Adj Close ($)')"
      ],
      "metadata": {
        "colab": {
          "base_uri": "https://localhost:8080/",
          "height": 287
        },
        "id": "JffAU9t1q4qc",
        "outputId": "2a1a16e9-3b69-4aad-c85e-2867f50728b8"
      },
      "execution_count": 5,
      "outputs": [
        {
          "output_type": "execute_result",
          "data": {
            "text/plain": [
              "Text(0, 0.5, 'Adj Close ($)')"
            ]
          },
          "metadata": {},
          "execution_count": 5
        },
        {
          "output_type": "display_data",
          "data": {
            "text/plain": [
              "<Figure size 432x288 with 1 Axes>"
            ],
            "image/png": "[encoded data removed]"
          },
          "metadata": {
            "needs_background": "light"
          }
        }
      ]
    },
    {
      "cell_type": "markdown",
      "source": [
        "# Problem 3\n",
        "Preprocess the data. \n",
        "\n",
        "I'll be training the model on moving averages (MA) and exponential moving averages (EMA) of various windows. We know stocks can be modeled by stochastic differential equations, and thus have an inherent \"noise\" factor to them. So MA and EMA should help cut down on that.\n",
        "\n",
        "I'll be using this to predict wether the stock will move up or down. I won't know by how much. The outputs will be\n",
        "- 1: moves up\n",
        "- 0: stays the same\n",
        "- -1: moves down"
      ],
      "metadata": {
        "id": "dzG0UvCmsdnV"
      }
    },
    {
      "cell_type": "code",
      "source": [
        "def find_percent_change(values):\n",
        "    \"\"\"\n",
        "    Input:\n",
        "    * values (list of floats) - time series data for prices\n",
        "\n",
        "    Output:\n",
        "    * percent_changes (list of floats) - time series data for percent change between days\n",
        "                                         The first entry will be 'np.nan'\n",
        "    \"\"\"\n",
        "\n",
        "    # Initialize a list to store the percent changes\n",
        "    percent_changes = [np.nan]\n",
        "\n",
        "    # Iterate over the elements in the list, starting from the second element\n",
        "    for i in range(1, len(values)):\n",
        "        # Calculate the percent change between the current element and the previous element\n",
        "        percent_change = (values[i] - values[i-1]) / values[i-1] * 100\n",
        "        # Append the percent change to the list\n",
        "        percent_changes.append(percent_change)\n",
        "    \n",
        "    return percent_changes\n",
        "\n",
        "def sign_function(values):\n",
        "  signs = []\n",
        "  for i in values:\n",
        "    if i > 0:\n",
        "      signs.append(1)\n",
        "    elif i == 0:\n",
        "      signs.append(0)\n",
        "    else:\n",
        "      signs.append(-1)\n",
        "  return signs\n",
        "\n",
        "def moving_average(data, window_size):\n",
        "    moving_averages = [np.nan for _ in range(window_size - 1)]\n",
        "    for i in range(len(data) - window_size + 1):\n",
        "        window = data[i:i+window_size]\n",
        "        moving_averages.append(sum(window) / len(window))\n",
        "    return moving_averages\n",
        "\n",
        "def exponential_moving_average(data, window_size):\n",
        "    exponential_moving_averages = [np.nan for _ in range(window_size - 1)]\n",
        "    for i in range(len(data)):\n",
        "        if i < window_size - 1:\n",
        "            exponential_moving_averages.append(None)\n",
        "        else:\n",
        "            ema_prev = exponential_moving_averages[-1] if exponential_moving_averages else data[0]\n",
        "            k = 2 / (window_size + 1)\n",
        "            ema = data[i] * k + ema_prev * (1 - k)\n",
        "            exponential_moving_averages.append(ema)\n",
        "    return exponential_moving_averages\n"
      ],
      "metadata": {
        "id": "Kw1I_Gncq6tb"
      },
      "execution_count": 6,
      "outputs": []
    },
    {
      "cell_type": "code",
      "source": [
        "pc_list = find_percent_change(close.values)\n",
        "\n",
        "iterations = np.array([1,2,3,4,5,6,7,8,9,10])\n",
        "for i in iterations:\n",
        "  ma_list = moving_average(close.values, i)\n",
        "  ema_list = moving_average(close.values, i)\n",
        "  data[f'Adj Closing MA {i}'] = ma_list\n",
        "  data[f'Adj Closing EMA {i}'] = ema_list\n",
        "data[f'Adj Closing PC'] = pc_list\n",
        "data['Direction of Movement'] = sign_function(pc_list)\n",
        "\n",
        "print(\"Summed percent change over all time is\", data['Adj Closing PC'].sum(), \"%\")\n",
        "data"
      ],
      "metadata": {
        "colab": {
          "base_uri": "https://localhost:8080/",
          "height": 745
        },
        "id": "rICys0Aw2A7U",
        "outputId": "2b228c07-9e26-4386-c61c-e1765f8cde4c"
      },
      "execution_count": 7,
      "outputs": [
        {
          "output_type": "stream",
          "name": "stdout",
          "text": [
            "Summed percent change over all time is 1150.2442295671829 %\n"
          ]
        },
        {
          "output_type": "execute_result",
          "data": {
            "text/plain": [
              "                  Open        High         Low       Close   Adj Close  \\\n",
              "Date                                                                     \n",
              "1980-12-12    0.128348    0.128906    0.128348    0.128348    0.099874   \n",
              "1980-12-15    0.122210    0.122210    0.121652    0.121652    0.094663   \n",
              "1980-12-16    0.113281    0.113281    0.112723    0.112723    0.087715   \n",
              "1980-12-17    0.115513    0.116071    0.115513    0.115513    0.089886   \n",
              "1980-12-18    0.118862    0.119420    0.118862    0.118862    0.092492   \n",
              "...                ...         ...         ...         ...         ...   \n",
              "2022-12-14  145.350006  146.660004  141.160004  143.210007  143.210007   \n",
              "2022-12-15  141.110001  141.800003  136.029999  136.500000  136.500000   \n",
              "2022-12-16  136.690002  137.649994  133.729996  134.509995  134.509995   \n",
              "2022-12-19  135.110001  135.199997  131.320007  132.369995  132.369995   \n",
              "2022-12-20  131.389999  133.250000  129.889999  132.300003  132.300003   \n",
              "\n",
              "               Volume  Adj Closing MA 1  Adj Closing EMA 1  Adj Closing MA 2  \\\n",
              "Date                                                                           \n",
              "1980-12-12  469033600          0.099874           0.099874               NaN   \n",
              "1980-12-15  175884800          0.094663           0.094663          0.097269   \n",
              "1980-12-16  105728000          0.087715           0.087715          0.091189   \n",
              "1980-12-17   86441600          0.089886           0.089886          0.088801   \n",
              "1980-12-18   73449600          0.092492           0.092492          0.091189   \n",
              "...               ...               ...                ...               ...   \n",
              "2022-12-14   82291200        143.210007         143.210007        144.340004   \n",
              "2022-12-15   98931900        136.500000         136.500000        139.855003   \n",
              "2022-12-16  160080100        134.509995         134.509995        135.504997   \n",
              "2022-12-19   79592600        132.369995         132.369995        133.439995   \n",
              "2022-12-20   77256200        132.300003         132.300003        132.334999   \n",
              "\n",
              "            Adj Closing EMA 2  ...  Adj Closing MA 7  Adj Closing EMA 7  \\\n",
              "Date                           ...                                        \n",
              "1980-12-12                NaN  ...               NaN                NaN   \n",
              "1980-12-15           0.097269  ...               NaN                NaN   \n",
              "1980-12-16           0.091189  ...               NaN                NaN   \n",
              "1980-12-17           0.088801  ...               NaN                NaN   \n",
              "1980-12-18           0.091189  ...               NaN                NaN   \n",
              "...                       ...  ...               ...                ...   \n",
              "2022-12-14         144.340004  ...        143.118574         143.118574   \n",
              "2022-12-15         139.855003  ...        142.202859         142.202859   \n",
              "2022-12-16         135.504997  ...        141.284286         141.284286   \n",
              "2022-12-19         133.439995  ...        139.815715         139.815715   \n",
              "2022-12-20         132.334999  ...        138.407144         138.407144   \n",
              "\n",
              "            Adj Closing MA 8  Adj Closing EMA 8  Adj Closing MA 9  \\\n",
              "Date                                                                \n",
              "1980-12-12               NaN                NaN               NaN   \n",
              "1980-12-15               NaN                NaN               NaN   \n",
              "1980-12-16               NaN                NaN               NaN   \n",
              "1980-12-17               NaN                NaN               NaN   \n",
              "1980-12-18               NaN                NaN               NaN   \n",
              "...                      ...                ...               ...   \n",
              "2022-12-14        143.557503         143.557503        144.030002   \n",
              "2022-12-15        142.291252         142.291252        142.773336   \n",
              "2022-12-16        141.241251         141.241251        141.426668   \n",
              "2022-12-19        140.170000         140.170000        140.255556   \n",
              "2022-12-20        138.876251         138.876251        139.295556   \n",
              "\n",
              "            Adj Closing EMA 9  Adj Closing MA 10  Adj Closing EMA 10  \\\n",
              "Date                                                                   \n",
              "1980-12-12                NaN                NaN                 NaN   \n",
              "1980-12-15                NaN                NaN                 NaN   \n",
              "1980-12-16                NaN                NaN                 NaN   \n",
              "1980-12-17                NaN                NaN                 NaN   \n",
              "1980-12-18                NaN                NaN                 NaN   \n",
              "...                       ...                ...                 ...   \n",
              "2022-12-14         144.030002         144.458002          144.458002   \n",
              "2022-12-15         142.773336         143.277002          143.277002   \n",
              "2022-12-16         141.426668         141.947002          141.947002   \n",
              "2022-12-19         140.255556         140.521001          140.521001   \n",
              "2022-12-20         139.295556         139.460001          139.460001   \n",
              "\n",
              "            Adj Closing PC  Direction of Movement  \n",
              "Date                                               \n",
              "1980-12-12             NaN                     -1  \n",
              "1980-12-15       -5.217072                     -1  \n",
              "1980-12-16       -7.339792                     -1  \n",
              "1980-12-17        2.475083                      1  \n",
              "1980-12-18        2.899250                      1  \n",
              "...                    ...                    ...  \n",
              "2022-12-14       -1.553581                     -1  \n",
              "2022-12-15       -4.685431                     -1  \n",
              "2022-12-16       -1.457879                     -1  \n",
              "2022-12-19       -1.590959                     -1  \n",
              "2022-12-20       -0.052876                     -1  \n",
              "\n",
              "[10596 rows x 28 columns]"
            ],
            "text/html": [
              "\n",
              "  <div id=\"df-3fbf617b-b078-4f14-b094-7d40e73e96d3\">\n",
              "    <div class=\"colab-df-container\">\n",
              "      <div>\n",
              "<style scoped>\n",
              "    .dataframe tbody tr th:only-of-type {\n",
              "        vertical-align: middle;\n",
              "    }\n",
              "\n",
              "    .dataframe tbody tr th {\n",
              "        vertical-align: top;\n",
              "    }\n",
              "\n",
              "    .dataframe thead th {\n",
              "        text-align: right;\n",
              "    }\n",
              "</style>\n",
              "<table border=\"1\" class=\"dataframe\">\n",
              "  <thead>\n",
              "    <tr style=\"text-align: right;\">\n",
              "      <th></th>\n",
              "      <th>Open</th>\n",
              "      <th>High</th>\n",
              "      <th>Low</th>\n",
              "      <th>Close</th>\n",
              "      <th>Adj Close</th>\n",
              "      <th>Volume</th>\n",
              "      <th>Adj Closing MA 1</th>\n",
              "      <th>Adj Closing EMA 1</th>\n",
              "      <th>Adj Closing MA 2</th>\n",
              "      <th>Adj Closing EMA 2</th>\n",
              "      <th>...</th>\n",
              "      <th>Adj Closing MA 7</th>\n",
              "      <th>Adj Closing EMA 7</th>\n",
              "      <th>Adj Closing MA 8</th>\n",
              "      <th>Adj Closing EMA 8</th>\n",
              "      <th>Adj Closing MA 9</th>\n",
              "      <th>Adj Closing EMA 9</th>\n",
              "      <th>Adj Closing MA 10</th>\n",
              "      <th>Adj Closing EMA 10</th>\n",
              "      <th>Adj Closing PC</th>\n",
              "      <th>Direction of Movement</th>\n",
              "    </tr>\n",
              "    <tr>\n",
              "      <th>Date</th>\n",
              "      <th></th>\n",
              "      <th></th>\n",
              "      <th></th>\n",
              "      <th></th>\n",
              "      <th></th>\n",
              "      <th></th>\n",
              "      <th></th>\n",
              "      <th></th>\n",
              "      <th></th>\n",
              "      <th></th>\n",
              "      <th></th>\n",
              "      <th></th>\n",
              "      <th></th>\n",
              "      <th></th>\n",
              "      <th></th>\n",
              "      <th></th>\n",
              "      <th></th>\n",
              "      <th></th>\n",
              "      <th></th>\n",
              "      <th></th>\n",
              "      <th></th>\n",
              "    </tr>\n",
              "  </thead>\n",
              "  <tbody>\n",
              "    <tr>\n",
              "      <th>1980-12-12</th>\n",
              "      <td>0.128348</td>\n",
              "      <td>0.128906</td>\n",
              "      <td>0.128348</td>\n",
              "      <td>0.128348</td>\n",
              "      <td>0.099874</td>\n",
              "      <td>469033600</td>\n",
              "      <td>0.099874</td>\n",
              "      <td>0.099874</td>\n",
              "      <td>NaN</td>\n",
              "      <td>NaN</td>\n",
              "      <td>...</td>\n",
              "      <td>NaN</td>\n",
              "      <td>NaN</td>\n",
              "      <td>NaN</td>\n",
              "      <td>NaN</td>\n",
              "      <td>NaN</td>\n",
              "      <td>NaN</td>\n",
              "      <td>NaN</td>\n",
              "      <td>NaN</td>\n",
              "      <td>NaN</td>\n",
              "      <td>-1</td>\n",
              "    </tr>\n",
              "    <tr>\n",
              "      <th>1980-12-15</th>\n",
              "      <td>0.122210</td>\n",
              "      <td>0.122210</td>\n",
              "      <td>0.121652</td>\n",
              "      <td>0.121652</td>\n",
              "      <td>0.094663</td>\n",
              "      <td>175884800</td>\n",
              "      <td>0.094663</td>\n",
              "      <td>0.094663</td>\n",
              "      <td>0.097269</td>\n",
              "      <td>0.097269</td>\n",
              "      <td>...</td>\n",
              "      <td>NaN</td>\n",
              "      <td>NaN</td>\n",
              "      <td>NaN</td>\n",
              "      <td>NaN</td>\n",
              "      <td>NaN</td>\n",
              "      <td>NaN</td>\n",
              "      <td>NaN</td>\n",
              "      <td>NaN</td>\n",
              "      <td>-5.217072</td>\n",
              "      <td>-1</td>\n",
              "    </tr>\n",
              "    <tr>\n",
              "      <th>1980-12-16</th>\n",
              "      <td>0.113281</td>\n",
              "      <td>0.113281</td>\n",
              "      <td>0.112723</td>\n",
              "      <td>0.112723</td>\n",
              "      <td>0.087715</td>\n",
              "      <td>105728000</td>\n",
              "      <td>0.087715</td>\n",
              "      <td>0.087715</td>\n",
              "      <td>0.091189</td>\n",
              "      <td>0.091189</td>\n",
              "      <td>...</td>\n",
              "      <td>NaN</td>\n",
              "      <td>NaN</td>\n",
              "      <td>NaN</td>\n",
              "      <td>NaN</td>\n",
              "      <td>NaN</td>\n",
              "      <td>NaN</td>\n",
              "      <td>NaN</td>\n",
              "      <td>NaN</td>\n",
              "      <td>-7.339792</td>\n",
              "      <td>-1</td>\n",
              "    </tr>\n",
              "    <tr>\n",
              "      <th>1980-12-17</th>\n",
              "      <td>0.115513</td>\n",
              "      <td>0.116071</td>\n",
              "      <td>0.115513</td>\n",
              "      <td>0.115513</td>\n",
              "      <td>0.089886</td>\n",
              "      <td>86441600</td>\n",
              "      <td>0.089886</td>\n",
              "      <td>0.089886</td>\n",
              "      <td>0.088801</td>\n",
              "      <td>0.088801</td>\n",
              "      <td>...</td>\n",
              "      <td>NaN</td>\n",
              "      <td>NaN</td>\n",
              "      <td>NaN</td>\n",
              "      <td>NaN</td>\n",
              "      <td>NaN</td>\n",
              "      <td>NaN</td>\n",
              "      <td>NaN</td>\n",
              "      <td>NaN</td>\n",
              "      <td>2.475083</td>\n",
              "      <td>1</td>\n",
              "    </tr>\n",
              "    <tr>\n",
              "      <th>1980-12-18</th>\n",
              "      <td>0.118862</td>\n",
              "      <td>0.119420</td>\n",
              "      <td>0.118862</td>\n",
              "      <td>0.118862</td>\n",
              "      <td>0.092492</td>\n",
              "      <td>73449600</td>\n",
              "      <td>0.092492</td>\n",
              "      <td>0.092492</td>\n",
              "      <td>0.091189</td>\n",
              "      <td>0.091189</td>\n",
              "      <td>...</td>\n",
              "      <td>NaN</td>\n",
              "      <td>NaN</td>\n",
              "      <td>NaN</td>\n",
              "      <td>NaN</td>\n",
              "      <td>NaN</td>\n",
              "      <td>NaN</td>\n",
              "      <td>NaN</td>\n",
              "      <td>NaN</td>\n",
              "      <td>2.899250</td>\n",
              "      <td>1</td>\n",
              "    </tr>\n",
              "    <tr>\n",
              "      <th>...</th>\n",
              "      <td>...</td>\n",
              "      <td>...</td>\n",
              "      <td>...</td>\n",
              "      <td>...</td>\n",
              "      <td>...</td>\n",
              "      <td>...</td>\n",
              "      <td>...</td>\n",
              "      <td>...</td>\n",
              "      <td>...</td>\n",
              "      <td>...</td>\n",
              "      <td>...</td>\n",
              "      <td>...</td>\n",
              "      <td>...</td>\n",
              "      <td>...</td>\n",
              "      <td>...</td>\n",
              "      <td>...</td>\n",
              "      <td>...</td>\n",
              "      <td>...</td>\n",
              "      <td>...</td>\n",
              "      <td>...</td>\n",
              "      <td>...</td>\n",
              "    </tr>\n",
              "    <tr>\n",
              "      <th>2022-12-14</th>\n",
              "      <td>145.350006</td>\n",
              "      <td>146.660004</td>\n",
              "      <td>141.160004</td>\n",
              "      <td>143.210007</td>\n",
              "      <td>143.210007</td>\n",
              "      <td>82291200</td>\n",
              "      <td>143.210007</td>\n",
              "      <td>143.210007</td>\n",
              "      <td>144.340004</td>\n",
              "      <td>144.340004</td>\n",
              "      <td>...</td>\n",
              "      <td>143.118574</td>\n",
              "      <td>143.118574</td>\n",
              "      <td>143.557503</td>\n",
              "      <td>143.557503</td>\n",
              "      <td>144.030002</td>\n",
              "      <td>144.030002</td>\n",
              "      <td>144.458002</td>\n",
              "      <td>144.458002</td>\n",
              "      <td>-1.553581</td>\n",
              "      <td>-1</td>\n",
              "    </tr>\n",
              "    <tr>\n",
              "      <th>2022-12-15</th>\n",
              "      <td>141.110001</td>\n",
              "      <td>141.800003</td>\n",
              "      <td>136.029999</td>\n",
              "      <td>136.500000</td>\n",
              "      <td>136.500000</td>\n",
              "      <td>98931900</td>\n",
              "      <td>136.500000</td>\n",
              "      <td>136.500000</td>\n",
              "      <td>139.855003</td>\n",
              "      <td>139.855003</td>\n",
              "      <td>...</td>\n",
              "      <td>142.202859</td>\n",
              "      <td>142.202859</td>\n",
              "      <td>142.291252</td>\n",
              "      <td>142.291252</td>\n",
              "      <td>142.773336</td>\n",
              "      <td>142.773336</td>\n",
              "      <td>143.277002</td>\n",
              "      <td>143.277002</td>\n",
              "      <td>-4.685431</td>\n",
              "      <td>-1</td>\n",
              "    </tr>\n",
              "    <tr>\n",
              "      <th>2022-12-16</th>\n",
              "      <td>136.690002</td>\n",
              "      <td>137.649994</td>\n",
              "      <td>133.729996</td>\n",
              "      <td>134.509995</td>\n",
              "      <td>134.509995</td>\n",
              "      <td>160080100</td>\n",
              "      <td>134.509995</td>\n",
              "      <td>134.509995</td>\n",
              "      <td>135.504997</td>\n",
              "      <td>135.504997</td>\n",
              "      <td>...</td>\n",
              "      <td>141.284286</td>\n",
              "      <td>141.284286</td>\n",
              "      <td>141.241251</td>\n",
              "      <td>141.241251</td>\n",
              "      <td>141.426668</td>\n",
              "      <td>141.426668</td>\n",
              "      <td>141.947002</td>\n",
              "      <td>141.947002</td>\n",
              "      <td>-1.457879</td>\n",
              "      <td>-1</td>\n",
              "    </tr>\n",
              "    <tr>\n",
              "      <th>2022-12-19</th>\n",
              "      <td>135.110001</td>\n",
              "      <td>135.199997</td>\n",
              "      <td>131.320007</td>\n",
              "      <td>132.369995</td>\n",
              "      <td>132.369995</td>\n",
              "      <td>79592600</td>\n",
              "      <td>132.369995</td>\n",
              "      <td>132.369995</td>\n",
              "      <td>133.439995</td>\n",
              "      <td>133.439995</td>\n",
              "      <td>...</td>\n",
              "      <td>139.815715</td>\n",
              "      <td>139.815715</td>\n",
              "      <td>140.170000</td>\n",
              "      <td>140.170000</td>\n",
              "      <td>140.255556</td>\n",
              "      <td>140.255556</td>\n",
              "      <td>140.521001</td>\n",
              "      <td>140.521001</td>\n",
              "      <td>-1.590959</td>\n",
              "      <td>-1</td>\n",
              "    </tr>\n",
              "    <tr>\n",
              "      <th>2022-12-20</th>\n",
              "      <td>131.389999</td>\n",
              "      <td>133.250000</td>\n",
              "      <td>129.889999</td>\n",
              "      <td>132.300003</td>\n",
              "      <td>132.300003</td>\n",
              "      <td>77256200</td>\n",
              "      <td>132.300003</td>\n",
              "      <td>132.300003</td>\n",
              "      <td>132.334999</td>\n",
              "      <td>132.334999</td>\n",
              "      <td>...</td>\n",
              "      <td>138.407144</td>\n",
              "      <td>138.407144</td>\n",
              "      <td>138.876251</td>\n",
              "      <td>138.876251</td>\n",
              "      <td>139.295556</td>\n",
              "      <td>139.295556</td>\n",
              "      <td>139.460001</td>\n",
              "      <td>139.460001</td>\n",
              "      <td>-0.052876</td>\n",
              "      <td>-1</td>\n",
              "    </tr>\n",
              "  </tbody>\n",
              "</table>\n",
              "<p>10596 rows × 28 columns</p>\n",
              "</div>\n",
              "      <button class=\"colab-df-convert\" onclick=\"convertToInteractive('df-3fbf617b-b078-4f14-b094-7d40e73e96d3')\"\n",
              "              title=\"Convert this dataframe to an interactive table.\"\n",
              "              style=\"display:none;\">\n",
              "        \n",
              "  <svg xmlns=\"http://www.w3.org/2000/svg\" height=\"24px\"viewBox=\"0 0 24 24\"\n",
              "       width=\"24px\">\n",
              "    <path d=\"M0 0h24v24H0V0z\" fill=\"none\"/>\n",
              "    <path d=\"M18.56 5.44l.94 2.06.94-2.06 2.06-.94-2.06-.94-.94-2.06-.94 2.06-2.06.94zm-11 1L8.5 8.5l.94-2.06 2.06-.94-2.06-.94L8.5 2.5l-.94 2.06-2.06.94zm10 10l.94 2.06.94-2.06 2.06-.94-2.06-.94-.94-2.06-.94 2.06-2.06.94z\"/><path d=\"M17.41 7.96l-1.37-1.37c-.4-.4-.92-.59-1.43-.59-.52 0-1.04.2-1.43.59L10.3 9.45l-7.72 7.72c-.78.78-.78 2.05 0 2.83L4 21.41c.39.39.9.59 1.41.59.51 0 1.02-.2 1.41-.59l7.78-7.78 2.81-2.81c.8-.78.8-2.07 0-2.86zM5.41 20L4 18.59l7.72-7.72 1.47 1.35L5.41 20z\"/>\n",
              "  </svg>\n",
              "      </button>\n",
              "      \n",
              "  <style>\n",
              "    .colab-df-container {\n",
              "      display:flex;\n",
              "      flex-wrap:wrap;\n",
              "      gap: 12px;\n",
              "    }\n",
              "\n",
              "    .colab-df-convert {\n",
              "      background-color: #E8F0FE;\n",
              "      border: none;\n",
              "      border-radius: 50%;\n",
              "      cursor: pointer;\n",
              "      display: none;\n",
              "      fill: #1967D2;\n",
              "      height: 32px;\n",
              "      padding: 0 0 0 0;\n",
              "      width: 32px;\n",
              "    }\n",
              "\n",
              "    .colab-df-convert:hover {\n",
              "      background-color: #E2EBFA;\n",
              "      box-shadow: 0px 1px 2px rgba(60, 64, 67, 0.3), 0px 1px 3px 1px rgba(60, 64, 67, 0.15);\n",
              "      fill: #174EA6;\n",
              "    }\n",
              "\n",
              "    [theme=dark] .colab-df-convert {\n",
              "      background-color: #3B4455;\n",
              "      fill: #D2E3FC;\n",
              "    }\n",
              "\n",
              "    [theme=dark] .colab-df-convert:hover {\n",
              "      background-color: #434B5C;\n",
              "      box-shadow: 0px 1px 3px 1px rgba(0, 0, 0, 0.15);\n",
              "      filter: drop-shadow(0px 1px 2px rgba(0, 0, 0, 0.3));\n",
              "      fill: #FFFFFF;\n",
              "    }\n",
              "  </style>\n",
              "\n",
              "      <script>\n",
              "        const buttonEl =\n",
              "          document.querySelector('#df-3fbf617b-b078-4f14-b094-7d40e73e96d3 button.colab-df-convert');\n",
              "        buttonEl.style.display =\n",
              "          google.colab.kernel.accessAllowed ? 'block' : 'none';\n",
              "\n",
              "        async function convertToInteractive(key) {\n",
              "          const element = document.querySelector('#df-3fbf617b-b078-4f14-b094-7d40e73e96d3');\n",
              "          const dataTable =\n",
              "            await google.colab.kernel.invokeFunction('convertToInteractive',\n",
              "                                                     [key], {});\n",
              "          if (!dataTable) return;\n",
              "\n",
              "          const docLinkHtml = 'Like what you see? Visit the ' +\n",
              "            '<a target=\"_blank\" href=https://colab.research.google.com/notebooks/data_table.ipynb>data table notebook</a>'\n",
              "            + ' to learn more about interactive tables.';\n",
              "          element.innerHTML = '';\n",
              "          dataTable['output_type'] = 'display_data';\n",
              "          await google.colab.output.renderOutput(dataTable, element);\n",
              "          const docLink = document.createElement('div');\n",
              "          docLink.innerHTML = docLinkHtml;\n",
              "          element.appendChild(docLink);\n",
              "        }\n",
              "      </script>\n",
              "    </div>\n",
              "  </div>\n",
              "  "
            ]
          },
          "metadata": {},
          "execution_count": 7
        }
      ]
    },
    {
      "cell_type": "code",
      "source": [
        "data['Adj Closing PC'].plot()"
      ],
      "metadata": {
        "colab": {
          "base_uri": "https://localhost:8080/",
          "height": 287
        },
        "id": "ux_Wpw1t2S-3",
        "outputId": "e85af7f0-aeec-43dc-a941-e7e3e9ef8871"
      },
      "execution_count": 8,
      "outputs": [
        {
          "output_type": "execute_result",
          "data": {
            "text/plain": [
              "<matplotlib.axes._subplots.AxesSubplot at 0x7f0a62f30b50>"
            ]
          },
          "metadata": {},
          "execution_count": 8
        },
        {
          "output_type": "display_data",
          "data": {
            "text/plain": [
              "<Figure size 432x288 with 1 Axes>"
            ],
            "image/png": "[encoded data removed]"
          },
          "metadata": {
            "needs_background": "light"
          }
        }
      ]
    },
    {
      "cell_type": "code",
      "source": [
        "data['Direction of Movement'].plot(style='o')"
      ],
      "metadata": {
        "colab": {
          "base_uri": "https://localhost:8080/",
          "height": 287
        },
        "id": "SMssg6WBPPJz",
        "outputId": "afb754c2-15b8-4e7a-8e27-182497cdb430"
      },
      "execution_count": 9,
      "outputs": [
        {
          "output_type": "execute_result",
          "data": {
            "text/plain": [
              "<matplotlib.axes._subplots.AxesSubplot at 0x7f0a62763d00>"
            ]
          },
          "metadata": {},
          "execution_count": 9
        },
        {
          "output_type": "display_data",
          "data": {
            "text/plain": [
              "<Figure size 432x288 with 1 Axes>"
            ],
            "image/png": "[encoded data removed]"
          },
          "metadata": {
            "needs_background": "light"
          }
        }
      ]
    },
    {
      "cell_type": "code",
      "source": [
        "for i in iterations:\n",
        "  data[f'Adj Closing MA {i}'].plot()\n",
        "  data[f'Adj Closing EMA {i}'].plot()\n",
        "  data[f'Adj Close'].plot()\n",
        "\n",
        "plt.xlim([\"2022-08-25\",\"2022-12-20\"])"
      ],
      "metadata": {
        "colab": {
          "base_uri": "https://localhost:8080/",
          "height": 303
        },
        "id": "3Tgo_J387l2Q",
        "outputId": "886ca984-fb26-47fe-bea1-0e0f48224fc5"
      },
      "execution_count": 10,
      "outputs": [
        {
          "output_type": "execute_result",
          "data": {
            "text/plain": [
              "(738392.0, 738509.0)"
            ]
          },
          "metadata": {},
          "execution_count": 10
        },
        {
          "output_type": "display_data",
          "data": {
            "text/plain": [
              "<Figure size 432x288 with 1 Axes>"
            ],
            "image/png": "[encoded data removed]"
          },
          "metadata": {
            "needs_background": "light"
          }
        }
      ]
    },
    {
      "cell_type": "markdown",
      "source": [
        "# Problem 4\n",
        "Train ML.\n",
        "\n",
        "I chose K'th Neaest Neighbors because I wanted to see how it could group the categories 1,0,-1 dependening the distribution of the EMA and MA (which forms a scatter plot in higher dimensions)."
      ],
      "metadata": {
        "id": "SgizuQWAzqbz"
      }
    },
    {
      "cell_type": "code",
      "source": [
        "from sklearn.model_selection import train_test_split"
      ],
      "metadata": {
        "id": "-uksx0nT0s43"
      },
      "execution_count": 11,
      "outputs": []
    },
    {
      "cell_type": "code",
      "source": [
        "x_data = []\n",
        "for t in range(len(data.index)):\n",
        "  parameters_at_t = []\n",
        "  for i in iterations:\n",
        "    parameters_at_t.append(data[f'Adj Closing MA {i}'].values[t])\n",
        "    parameters_at_t.append(data[f'Adj Closing EMA {i}'].values[t])\n",
        "  x_data.append(parameters_at_t)"
      ],
      "metadata": {
        "id": "tJoWYeA19mfD"
      },
      "execution_count": 12,
      "outputs": []
    },
    {
      "cell_type": "code",
      "source": [
        "x_train, x_test, y_train, y_test = train_test_split(x_data, data['Direction of Movement'], test_size=0.2, random_state=0, shuffle=False)\n",
        "\n",
        "x_train_df = pd.DataFrame(x_train, index=y_train.index)\n",
        "x_train_df = x_train_df.drop(x_train_df.index[:iterations[-1] - 1])\n",
        "y_train    = y_train.iloc[iterations[-1] - 1:]\n",
        "\n",
        "print(\"number of parameters we're training on is: \", len(x_train[0]))"
      ],
      "metadata": {
        "colab": {
          "base_uri": "https://localhost:8080/"
        },
        "id": "S1tmiB1U_xRD",
        "outputId": "5c836e95-6214-4a12-aa69-be2537db6542"
      },
      "execution_count": 13,
      "outputs": [
        {
          "output_type": "stream",
          "name": "stdout",
          "text": [
            "number of parameters we're training on is:  20\n"
          ]
        }
      ]
    },
    {
      "cell_type": "code",
      "source": [
        "from sklearn.neighbors import KNeighborsClassifier\n",
        "\n",
        "# Create the model\n",
        "model = KNeighborsClassifier(n_neighbors=len(x_train[0])) # I chose this so we're matching the neighbors to amount of parameters we're sweeping\n",
        "\n",
        "# Fit the model to the data\n",
        "model.fit(x_train_df, y_train)\n",
        "\n",
        "# Predict based on given test data\n",
        "y_pred = model.predict(x_test)"
      ],
      "metadata": {
        "id": "tepj6inn03tL"
      },
      "execution_count": 15,
      "outputs": []
    },
    {
      "cell_type": "code",
      "source": [
        "# Let's see the results visually\n",
        "\n",
        "plt.scatter(y_test.index, y_test, label='Actual')\n",
        "plt.scatter(y_test.index, y_pred, label=\"Predicted\")\n",
        "plt.xlabel('Date')\n",
        "plt.ylabel('Percent Change')\n",
        "plt.legend()"
      ],
      "metadata": {
        "colab": {
          "base_uri": "https://localhost:8080/",
          "height": 297
        },
        "id": "1Pbp8gmT5St1",
        "outputId": "6f3a6cdf-8fdd-437f-86bf-bbcd5868cb34"
      },
      "execution_count": 16,
      "outputs": [
        {
          "output_type": "execute_result",
          "data": {
            "text/plain": [
              "<matplotlib.legend.Legend at 0x7f0a5cf73880>"
            ]
          },
          "metadata": {},
          "execution_count": 16
        },
        {
          "output_type": "display_data",
          "data": {
            "text/plain": [
              "<Figure size 432x288 with 1 Axes>"
            ],
            "image/png": "[encoded data removed]"
          },
          "metadata": {
            "needs_background": "light"
          }
        }
      ]
    },
    {
      "cell_type": "code",
      "source": [
        "# Now I want to see how many times I was correct\n",
        "when_correct = [0]\n",
        "amount_correct = 0\n",
        "amount_wrong = 0\n",
        "for t,p in zip(y_test, y_pred):\n",
        "  if (t == p):\n",
        "    when_correct.append(when_correct[-1] + 1)\n",
        "    amount_correct += 1\n",
        "  else:\n",
        "    when_correct.append(when_correct[-1])\n",
        "    amount_wrong += 1\n",
        "when_correct.pop(0)\n",
        "\n",
        "percent_correct = amount_correct / (amount_correct + amount_wrong) * 100\n",
        "\n",
        "print(f'Amount of directions we got CORRECT = {amount_correct}')\n",
        "print(f'Amount of directions we got WRONG = {amount_wrong}')\n",
        "print(f'Percent we got correct = {percent_correct}%')\n",
        "\n",
        "if percent_correct > 50:\n",
        "  print(\"We're winning!\")\n",
        "\n",
        "\n",
        "\n",
        "when_correct_df = pd.DataFrame(when_correct, index = y_test.index)\n",
        "when_correct_df.plot()\n",
        "plt.ylabel('Amount of times correct')\n",
        "\n",
        "\n"
      ],
      "metadata": {
        "colab": {
          "base_uri": "https://localhost:8080/",
          "height": 358
        },
        "id": "_LW5xVSMFJhl",
        "outputId": "9fb42083-a2ca-42bf-e006-6324767331c8"
      },
      "execution_count": 17,
      "outputs": [
        {
          "output_type": "stream",
          "name": "stdout",
          "text": [
            "Amount of directions we got CORRECT = 1205\n",
            "Amount of directions we got WRONG = 915\n",
            "Percent we got correct = 56.839622641509436%\n",
            "We're winning!\n"
          ]
        },
        {
          "output_type": "execute_result",
          "data": {
            "text/plain": [
              "Text(0, 0.5, 'Amount of times correct')"
            ]
          },
          "metadata": {},
          "execution_count": 17
        },
        {
          "output_type": "display_data",
          "data": {
            "text/plain": [
              "<Figure size 432x288 with 1 Axes>"
            ],
            "image/png": "[encoded data removed]"
          },
          "metadata": {
            "needs_background": "light"
          }
        }
      ]
    },
    {
      "cell_type": "markdown",
      "source": [
        "## Wow! This strategy can predict wether a stock will move up or down above 50%! Not bad."
      ],
      "metadata": {
        "id": "kvwP6k4GU5Xn"
      }
    }
  ]
}
